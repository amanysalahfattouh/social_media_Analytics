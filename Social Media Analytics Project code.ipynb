{
  "nbformat": 4,
  "nbformat_minor": 0,
  "metadata": {
    "colab": {
      "provenance": []
    },
    "kernelspec": {
      "name": "python3",
      "display_name": "Python 3"
    },
    "language_info": {
      "name": "python"
    },
    "accelerator": "GPU",
    "gpuClass": "standard"
  },
  "cells": [
    {
      "cell_type": "code",
      "source": [
        "!pip install spark \n",
        "!pip install findspark \n",
        "!pip install pyspark"
      ],
      "metadata": {
        "colab": {
          "base_uri": "https://localhost:8080/"
        },
        "id": "mKwRvVu9ccwf",
        "outputId": "d565ac70-17b4-45c9-e077-dcdafd7e8861"
      },
      "execution_count": 32,
      "outputs": [
        {
          "output_type": "stream",
          "name": "stdout",
          "text": [
            "Looking in indexes: https://pypi.org/simple, https://us-python.pkg.dev/colab-wheels/public/simple/\n",
            "Requirement already satisfied: spark in /usr/local/lib/python3.8/dist-packages (0.2.1)\n",
            "Looking in indexes: https://pypi.org/simple, https://us-python.pkg.dev/colab-wheels/public/simple/\n",
            "Requirement already satisfied: findspark in /usr/local/lib/python3.8/dist-packages (2.0.1)\n",
            "Looking in indexes: https://pypi.org/simple, https://us-python.pkg.dev/colab-wheels/public/simple/\n",
            "Requirement already satisfied: pyspark in /usr/local/lib/python3.8/dist-packages (3.3.2)\n",
            "Requirement already satisfied: py4j==0.10.9.5 in /usr/local/lib/python3.8/dist-packages (from pyspark) (0.10.9.5)\n"
          ]
        }
      ]
    },
    {
      "cell_type": "markdown",
      "source": [
        "#import Libraries"
      ],
      "metadata": {
        "id": "0XPrsYacmT_n"
      }
    },
    {
      "cell_type": "code",
      "source": [
        "import pyspark\n",
        "from pyspark import SparkContext\n",
        "from pyspark.sql.session import SparkSession\n",
        "from pyspark.streaming import StreamingContext\n",
        "from pyspark.ml import Pipeline\n",
        "from pyspark.ml.classification import LogisticRegression\n",
        "import pyspark.sql.types as tp\n",
        "from pyspark.ml import Pipeline\n",
        "from pyspark.ml.feature import StopWordsRemover, Word2Vec, RegexTokenizer\n",
        "from pyspark.ml.classification import LogisticRegression\n",
        "from pyspark.sql import Row, SQLContext\n",
        "from pyspark.ml.evaluation import MulticlassClassificationEvaluator \n",
        "import matplotlib.pyplot as plt"
      ],
      "metadata": {
        "id": "n0rhWzTbeEeP"
      },
      "execution_count": 33,
      "outputs": []
    },
    {
      "cell_type": "markdown",
      "source": [
        "#Read Data"
      ],
      "metadata": {
        "id": "ffYsDt-Xmi0f"
      }
    },
    {
      "cell_type": "code",
      "source": [
        "sc = SparkContext.getOrCreate()\n",
        "sqlContext = SQLContext(sc)\n",
        "df = sqlContext.read.format('com.databricks.spark.csv').options(header='true', inferschema='true').load('/content/amazon.csv')    \n",
        "print(type(df))"
      ],
      "metadata": {
        "id": "CWXnayKgkn55",
        "colab": {
          "base_uri": "https://localhost:8080/"
        },
        "outputId": "fef3ed48-8a3e-4c0d-e46d-9733510aa941"
      },
      "execution_count": 34,
      "outputs": [
        {
          "output_type": "stream",
          "name": "stderr",
          "text": [
            "/usr/local/lib/python3.8/dist-packages/pyspark/sql/context.py:112: FutureWarning: Deprecated in 3.0.0. Use SparkSession.builder.getOrCreate() instead.\n",
            "  warnings.warn(\n"
          ]
        },
        {
          "output_type": "stream",
          "name": "stdout",
          "text": [
            "<class 'pyspark.sql.dataframe.DataFrame'>\n"
          ]
        }
      ]
    },
    {
      "cell_type": "code",
      "source": [
        "df.printSchema()"
      ],
      "metadata": {
        "colab": {
          "base_uri": "https://localhost:8080/"
        },
        "id": "SuHk961_lZ4i",
        "outputId": "cb49832d-f63d-47d2-9184-53d1f6ae0ef1"
      },
      "execution_count": 35,
      "outputs": [
        {
          "output_type": "stream",
          "name": "stdout",
          "text": [
            "root\n",
            " |-- url: string (nullable = true)\n",
            " |-- product_name: string (nullable = true)\n",
            " |-- reviewer_name: string (nullable = true)\n",
            " |-- review_title: string (nullable = true)\n",
            " |-- review_text: string (nullable = true)\n",
            " |-- review_rating: string (nullable = true)\n",
            " |-- verified_purchase: string (nullable = true)\n",
            " |-- review_date: string (nullable = true)\n",
            " |-- helpful_count: string (nullable = true)\n",
            " |-- uniq_id: string (nullable = true)\n",
            " |-- scraped_at: string (nullable = true)\n",
            "\n"
          ]
        }
      ]
    },
    {
      "cell_type": "code",
      "source": [
        "df.count()"
      ],
      "metadata": {
        "colab": {
          "base_uri": "https://localhost:8080/"
        },
        "id": "RCIh9DvmleHg",
        "outputId": "0b960879-0086-46ae-9b52-5c2d8251215a"
      },
      "execution_count": 36,
      "outputs": [
        {
          "output_type": "execute_result",
          "data": {
            "text/plain": [
              "6844"
            ]
          },
          "metadata": {},
          "execution_count": 36
        }
      ]
    },
    {
      "cell_type": "markdown",
      "source": [
        "#preprocessing"
      ],
      "metadata": {
        "id": "Y_67ipQcmvPO"
      }
    },
    {
      "cell_type": "code",
      "source": [
        "#drop null values at review_text and review_rating\n",
        "df = df.filter(df.review_text.isNotNull()).drop()\n",
        "df = df.filter(df.review_rating.isNotNull()).drop()"
      ],
      "metadata": {
        "id": "dzbW_7-jlfiA"
      },
      "execution_count": 37,
      "outputs": []
    },
    {
      "cell_type": "code",
      "source": [
        "df.count()"
      ],
      "metadata": {
        "colab": {
          "base_uri": "https://localhost:8080/"
        },
        "id": "AmaUWD6fnLri",
        "outputId": "b34cf36b-904b-4e55-865d-540b9a6a2aa1"
      },
      "execution_count": 38,
      "outputs": [
        {
          "output_type": "execute_result",
          "data": {
            "text/plain": [
              "6807"
            ]
          },
          "metadata": {},
          "execution_count": 38
        }
      ]
    },
    {
      "cell_type": "code",
      "source": [
        "df.show()"
      ],
      "metadata": {
        "colab": {
          "base_uri": "https://localhost:8080/"
        },
        "id": "yy9GkvOGlgnx",
        "outputId": "e621cbb2-611c-4e8e-fd33-97d0e4a669c8"
      },
      "execution_count": 39,
      "outputs": [
        {
          "output_type": "stream",
          "name": "stdout",
          "text": [
            "+--------------------+--------------------+----------------+----------------------+---------------------------------+-------------+-----------------+--------------------+--------------------+--------------------+-------------------+\n",
            "|                 url|        product_name|   reviewer_name|          review_title|                      review_text|review_rating|verified_purchase|         review_date|       helpful_count|             uniq_id|         scraped_at|\n",
            "+--------------------+--------------------+----------------+----------------------+---------------------------------+-------------+-----------------+--------------------+--------------------+--------------------+-------------------+\n",
            "|https://www.amazo...|Klasified Women's...|Jocelyn McSayles|               Love em|             Love these. Was l...|          5.0|             True|Reviewed in the U...|2 people found th...|36eae4e5-2894-527...|24/12/2021 02:26:25|\n",
            "|https://www.amazo...|Klasified Women's...|    Kenia Rivera|    The plastic ripped|             The shoes are ver...|          2.0|             True|Reviewed in the U...|                null|f4778bb8-3070-5cb...|24/12/2021 02:26:25|\n",
            "|https://www.amazo...|Klasified Women's...|     Chris Souza|          Good quality|                     Good quality|          5.0|             True|Reviewed in the U...|                null|db5a7525-d40b-526...|24/12/2021 02:26:25|\n",
            "|https://www.amazo...|Klasified Women's...| Amazon Customer|                  Good|                            Great|          5.0|             True|Reviewed in the U...|                null|75a42851-6462-54b...|24/12/2021 02:26:25|\n",
            "|https://www.amazo...|GUESS Women's Bra...|       Graziella|            PERFETTE!!|             Ho scelto il mode...|          5.0|             True|Reviewed in Italy...|2 people found th...|232dee43-849e-5d0...|24/12/2021 02:26:25|\n",
            "|https://www.amazo...|GUESS Women's Bra...|       Francesca|             delusione|             Sono solita compr...|          1.0|             True|Reviewed in Italy...|                null|6fe245b1-453e-59f...|24/12/2021 02:26:25|\n",
            "|https://www.amazo...|GUESS Women's Bra...|         Cliente|           Molto belle|             Le scarpe sono mo...|          5.0|             True|Reviewed in Italy...|2 people found th...|deb5e278-70b5-5e2...|24/12/2021 02:26:25|\n",
            "|https://www.amazo...|GUESS Women's Bra...|  Cliente Amazon|  Molto carine e co...|             Semplicemente per...|          5.0|             True|Reviewed in Italy...|                null|5aad8538-dbdc-543...|24/12/2021 02:26:25|\n",
            "|https://www.amazo...|GUESS Women's Bra...|        Marcella|  Bellissime....pec...|             Le scarpe sono be...|          5.0|             True|Reviewed in Italy...|                null|4244f10c-b001-56b...|24/12/2021 02:26:25|\n",
            "|https://www.amazo...|GUESS Women's Bra...|        Giuseppe|  Scarpe ben realiz...|             Le scarpe sono be...|          5.0|             True|Reviewed in Italy...|                null|ede605fd-df17-54b...|24/12/2021 02:26:25|\n",
            "|https://www.amazo...|GUESS Women's Bra...|  Tanja Böckmann|   Sehr bequemer Schuh|             Der Schuh 👟gefäl...|          5.0|             True|Reviewed in Germa...|                null|56c5506c-bd2e-5ee...|24/12/2021 02:26:25|\n",
            "|https://www.amazo...|GUESS Women's Bra...|         Alessio|              Perfetto|             Scarpa perfetta e...|          5.0|             True|Reviewed in Italy...|                null|8b3957b4-5e2a-5e7...|24/12/2021 02:26:25|\n",
            "|https://www.amazo...|GUESS Women's Bra...|           Vilma|                Grandi|             Stupende,forse un...|          5.0|             True|Reviewed in Italy...|                null|cf0657a1-df84-557...|24/12/2021 02:26:25|\n",
            "|https://www.amazo...|GUESS Women's Bra...|          Serine|              Stupende|             Molto bello propr...|          4.0|             True|Reviewed in Italy...|                null|09b6a8ed-4dd9-52b...|24/12/2021 02:26:25|\n",
            "|https://www.amazo...|adidas Women's Re...|         Lindsay|  Perfect right out...|             True to size. If ...|          5.0|             True|Reviewed in Canad...|One person found ...|b64632c5-6f24-51e...|24/12/2021 02:26:25|\n",
            "|https://www.amazo...|adidas Women's Re...|    Lynn Maclean|          Disappointed|             This is the secon...|          2.0|             True|Reviewed in Canad...|                null|b9c4399e-01de-561...|24/12/2021 02:26:25|\n",
            "|https://www.amazo...|adidas Women's Re...|     Martine Roy|                  Wow!|             I love these shoe...|          5.0|             True|Reviewed in Canad...|                null|605fd069-17be-5f3...|24/12/2021 02:26:25|\n",
            "|https://www.amazo...|Aravon Women's Be...| Amazon Customer|  Comfortable and a...|             I have hard to fi...|          5.0|             True|Reviewed in Canad...|2 people found th...|bce0114a-c0fe-547...|24/12/2021 02:26:25|\n",
            "|https://www.amazo...|adidas Women's Re...|    One of Users|かわいいけど、色々残念|足が22cmのため、このサイズを展...|          3.0|             True|Reviewed in Japan...|                null|f3119c6e-b703-5e2...|24/12/2021 02:26:25|\n",
            "|https://www.amazo...|Aravon Women's Be...| Amazon Customer|  My right foot fit...|             I really need 11 ...|          5.0|             True|Reviewed in Canad...|                null|0190a659-ae61-5c2...|24/12/2021 02:26:25|\n",
            "+--------------------+--------------------+----------------+----------------------+---------------------------------+-------------+-----------------+--------------------+--------------------+--------------------+-------------------+\n",
            "only showing top 20 rows\n",
            "\n"
          ]
        }
      ]
    },
    {
      "cell_type": "code",
      "source": [
        "#drop duplicated raws\n",
        "df = df.dropDuplicates()"
      ],
      "metadata": {
        "id": "x4rs4q95lhrR"
      },
      "execution_count": 40,
      "outputs": []
    },
    {
      "cell_type": "code",
      "source": [
        "#select feature and label\n",
        "df=df.select(\"review_text\",\"review_rating\")"
      ],
      "metadata": {
        "id": "ExO2NQPZllxh"
      },
      "execution_count": 41,
      "outputs": []
    },
    {
      "cell_type": "code",
      "source": [
        "df.show()"
      ],
      "metadata": {
        "colab": {
          "base_uri": "https://localhost:8080/"
        },
        "id": "_ymLqRTTlohx",
        "outputId": "dfaee1f1-78a3-499b-c01c-dd22fe9700d6"
      },
      "execution_count": 42,
      "outputs": [
        {
          "output_type": "stream",
          "name": "stdout",
          "text": [
            "+--------------------+--------------------+\n",
            "|         review_text|       review_rating|\n",
            "+--------------------+--------------------+\n",
            "|True to size. If ...|                 5.0|\n",
            "|Comfortable fit e...|                 3.0|\n",
            "|Die besten Sommer...|                 5.0|\n",
            "|Article encore pl...|                 5.0|\n",
            "|Very comfortable ...|                 5.0|\n",
            "|The product is no...|                 1.0|\n",
            "|I got a size 6 bi...|                 4.0|\n",
            "|El mejor par de r...|                 5.0|\n",
            "|I ordered these a...|                 5.0|\n",
            "|belles et confort...|                 5.0|\n",
            "|My 11 year old da...|                 3.0|\n",
            "|These were so cut...|                 3.0|\n",
            "|Amazon you did it...|                 5.0|\n",
            "|     They were great|                 5.0|\n",
            "|I wish I had read...|                 4.0|\n",
            "|So disappointed! ...|                 3.0|\n",
            "|I saw a few quest...|                 5.0|\n",
            "|\"These are super ...| maybe even a 5. ...|\n",
            "|La talla no es la...|                 5.0|\n",
            "|My daughter was r...|                 3.0|\n",
            "+--------------------+--------------------+\n",
            "only showing top 20 rows\n",
            "\n"
          ]
        }
      ]
    },
    {
      "cell_type": "code",
      "source": [
        "#order the data ascending according to review_rating\n",
        "df = df.orderBy(df.review_rating.asc())"
      ],
      "metadata": {
        "id": "XIyTPmbEe423"
      },
      "execution_count": 43,
      "outputs": []
    },
    {
      "cell_type": "code",
      "source": [
        "#removing noisy data at review_rating\n",
        "df = df[(df.review_rating == 1) | (df.review_rating == 2) | (df.review_rating == 3) | (df.review_rating == 4) | (df.review_rating == 5)]"
      ],
      "metadata": {
        "id": "5SlqD8uOe6fu"
      },
      "execution_count": 44,
      "outputs": []
    },
    {
      "cell_type": "code",
      "source": [
        "#plot review_rating \n",
        "plt.hist(df.toPandas()['review_rating'])\n",
        "plt.show()"
      ],
      "metadata": {
        "colab": {
          "base_uri": "https://localhost:8080/",
          "height": 265
        },
        "id": "zukJeIg05pvP",
        "outputId": "c52eeba7-5ea1-4aea-e599-0d79bb4fa049"
      },
      "execution_count": 45,
      "outputs": [
        {
          "output_type": "display_data",
          "data": {
            "text/plain": [
              "<Figure size 432x288 with 1 Axes>"
            ],
            "image/png": "[encoded data removed]"
          },
          "metadata": {
            "needs_background": "light"
          }
        }
      ]
    },
    {
      "cell_type": "code",
      "source": [
        "df.show(10)"
      ],
      "metadata": {
        "colab": {
          "base_uri": "https://localhost:8080/"
        },
        "id": "2TICp20je9Qe",
        "outputId": "c73f2791-ba0f-486c-dce3-c620ab135917"
      },
      "execution_count": 46,
      "outputs": [
        {
          "output_type": "stream",
          "name": "stdout",
          "text": [
            "+--------------------+-------------+\n",
            "|         review_text|review_rating|\n",
            "+--------------------+-------------+\n",
            "|It runs smaller, ...|          1.0|\n",
            "|Poor quality tip ...|          1.0|\n",
            "|Soy muy fan de la...|          1.0|\n",
            "|The product is no...|          1.0|\n",
            "|Los devolví cuand...|          1.0|\n",
            "|Despues de 2 días...|          1.0|\n",
            "|         Way too big|          1.0|\n",
            "|I’ve had sketcher...|          1.0|\n",
            "|The shoes are too...|          1.0|\n",
            "|Bei diesen Schuhe...|          1.0|\n",
            "+--------------------+-------------+\n",
            "only showing top 10 rows\n",
            "\n"
          ]
        }
      ]
    },
    {
      "cell_type": "code",
      "source": [
        "#encoded the review data into zeros and ones \n",
        "#zero indicates to negative \n",
        "#one indicates to neutral\n",
        "#two indicates to positive\n",
        "df =df.select('review_text','review_rating').replace(['1.0','2.0','3.0','4.0', '5.0'],['0.0','0.0','1.0','2.0', '2.0'])"
      ],
      "metadata": {
        "id": "_eiaUKKCjETY"
      },
      "execution_count": 47,
      "outputs": []
    },
    {
      "cell_type": "code",
      "source": [
        "df.show()"
      ],
      "metadata": {
        "colab": {
          "base_uri": "https://localhost:8080/"
        },
        "id": "Vg3ZkgN9lPBQ",
        "outputId": "83f5eeb3-37b6-401b-aef7-844f2382b4be"
      },
      "execution_count": 48,
      "outputs": [
        {
          "output_type": "stream",
          "name": "stdout",
          "text": [
            "+--------------------+-------------+\n",
            "|         review_text|review_rating|\n",
            "+--------------------+-------------+\n",
            "|I’m a huge mizuno...|          0.0|\n",
            "|The shoes are too...|          0.0|\n",
            "|para ser de la ma...|          0.0|\n",
            "|Damaged products ...|          0.0|\n",
            "|Bei diesen Schuhe...|          0.0|\n",
            "|I have worn New B...|          0.0|\n",
            "|Despues de 2 días...|          0.0|\n",
            "|Nett, aber nach e...|          0.0|\n",
            "|I’ve had sketcher...|          0.0|\n",
            "|Dieser Schuh hat ...|          0.0|\n",
            "|We were moving an...|          0.0|\n",
            "|Very pretty in ap...|          0.0|\n",
            "|Soy muy fan de la...|          0.0|\n",
            "|Poor quality tip ...|          0.0|\n",
            "|         Way too big|          0.0|\n",
            "|Bonjour,je suis t...|          0.0|\n",
            "|Omg. They look go...|          0.0|\n",
            "|I wear Men's 8.5 ...|          0.0|\n",
            "|I ordered this in...|          0.0|\n",
            "|These are the wor...|          0.0|\n",
            "+--------------------+-------------+\n",
            "only showing top 20 rows\n",
            "\n"
          ]
        }
      ]
    },
    {
      "cell_type": "code",
      "source": [
        "#casting the review rating data from string to integer\n",
        "df = df.withColumn(\"review_rating\",df.review_rating.cast('int'))"
      ],
      "metadata": {
        "id": "7R1teQOxfPBx"
      },
      "execution_count": 49,
      "outputs": []
    },
    {
      "cell_type": "code",
      "source": [
        "df.show()"
      ],
      "metadata": {
        "colab": {
          "base_uri": "https://localhost:8080/"
        },
        "id": "tFO3ilnqkuLZ",
        "outputId": "d2b00a06-0fa2-4bd3-d9d4-7c3de98fcf14"
      },
      "execution_count": 50,
      "outputs": [
        {
          "output_type": "stream",
          "name": "stdout",
          "text": [
            "+--------------------+-------------+\n",
            "|         review_text|review_rating|\n",
            "+--------------------+-------------+\n",
            "|I’m a huge mizuno...|            0|\n",
            "|The shoes are too...|            0|\n",
            "|para ser de la ma...|            0|\n",
            "|Damaged products ...|            0|\n",
            "|Bei diesen Schuhe...|            0|\n",
            "|I have worn New B...|            0|\n",
            "|Despues de 2 días...|            0|\n",
            "|Nett, aber nach e...|            0|\n",
            "|I’ve had sketcher...|            0|\n",
            "|Dieser Schuh hat ...|            0|\n",
            "|We were moving an...|            0|\n",
            "|Very pretty in ap...|            0|\n",
            "|Soy muy fan de la...|            0|\n",
            "|Poor quality tip ...|            0|\n",
            "|         Way too big|            0|\n",
            "|Bonjour,je suis t...|            0|\n",
            "|Omg. They look go...|            0|\n",
            "|I wear Men's 8.5 ...|            0|\n",
            "|I ordered this in...|            0|\n",
            "|These are the wor...|            0|\n",
            "+--------------------+-------------+\n",
            "only showing top 20 rows\n",
            "\n"
          ]
        }
      ]
    },
    {
      "cell_type": "code",
      "source": [
        "#plot the data\n",
        "plt.hist(df.toPandas()['review_rating'])\n",
        "plt.show()"
      ],
      "metadata": {
        "colab": {
          "base_uri": "https://localhost:8080/",
          "height": 265
        },
        "id": "3RcYqJXrqjds",
        "outputId": "0cf8c35a-615d-4424-dc77-6e3077cf958f"
      },
      "execution_count": 51,
      "outputs": [
        {
          "output_type": "display_data",
          "data": {
            "text/plain": [
              "<Figure size 432x288 with 1 Axes>"
            ],
            "image/png": "[encoded data removed]"
          },
          "metadata": {
            "needs_background": "light"
          }
        }
      ]
    },
    {
      "cell_type": "markdown",
      "source": [
        "#Build Model"
      ],
      "metadata": {
        "id": "JiS2nY2Bo1L_"
      }
    },
    {
      "cell_type": "code",
      "source": [
        "#split data into train and test\n",
        "(trainData, testData) = df.randomSplit([0.7, 0.3], seed = 100)"
      ],
      "metadata": {
        "id": "fUObvGZ2rpyo"
      },
      "execution_count": 52,
      "outputs": []
    },
    {
      "cell_type": "code",
      "source": [
        "#define stage 1: tokenize the tweet text    \n",
        "stage_1 = RegexTokenizer(inputCol= 'review_text' , outputCol= 'tokens', pattern= '\\\\W')\n",
        "#define stage 2: remove the stop words\n",
        "stage_2 = StopWordsRemover(inputCol= 'tokens', outputCol= 'filtered_words')\n",
        "#define stage 3: create a word vector of the size 100\n",
        "stage_3 = Word2Vec(inputCol= 'filtered_words', outputCol= 'vector', vectorSize= 100)\n",
        "#define stage 4: Logistic Regression Model\n",
        "model = LogisticRegression(featuresCol= 'vector', labelCol= 'review_rating')"
      ],
      "metadata": {
        "id": "i-A_4MlYfH-e"
      },
      "execution_count": 53,
      "outputs": []
    },
    {
      "cell_type": "code",
      "source": [
        "#setup the pipeline\n",
        "pipeline = Pipeline(stages= [stage_1, stage_2, stage_3, model])\n",
        "\n",
        "#fit the pipeline model with the training data\n",
        "pipeline_model = pipeline.fit(trainData)"
      ],
      "metadata": {
        "id": "LvHmfjT0fTPX"
      },
      "execution_count": 54,
      "outputs": []
    },
    {
      "cell_type": "markdown",
      "source": [
        "#evaluate model"
      ],
      "metadata": {
        "id": "J-wnnzsYqBmu"
      }
    },
    {
      "cell_type": "code",
      "source": [
        "train_evaluate =  pipeline_model.transform(trainData)"
      ],
      "metadata": {
        "id": "JH3qnLo_hqdw"
      },
      "execution_count": 55,
      "outputs": []
    },
    {
      "cell_type": "code",
      "source": [
        "#measure the train metrics\n",
        "train_accuracy = MulticlassClassificationEvaluator(labelCol=\"review_rating\", predictionCol=\"prediction\", metricName=\"accuracy\")\n",
        "train_precision = MulticlassClassificationEvaluator(labelCol=\"review_rating\", predictionCol=\"prediction\", metricName=\"weightedPrecision\")\n",
        "train_recall = MulticlassClassificationEvaluator(labelCol=\"review_rating\", predictionCol=\"prediction\", metricName=\"weightedRecall\")\n",
        "train_f1 = MulticlassClassificationEvaluator(labelCol=\"review_rating\", predictionCol=\"prediction\", metricName=\"f1\")\n",
        "\n",
        "accuracy = train_accuracy.evaluate(train_evaluate)\n",
        "precision = train_precision.evaluate(train_evaluate)\n",
        "recall = train_recall.evaluate(train_evaluate)\n",
        "f1score = train_f1.evaluate(train_evaluate)\n",
        "\n",
        "print('accuracy: %0.4f' % accuracy)\n",
        "print('precision: %0.4f' % precision)\n",
        "print('recall: %0.4f' % recall)\n",
        "print('F1 score: %0.4f' % f1score)\n"
      ],
      "metadata": {
        "colab": {
          "base_uri": "https://localhost:8080/"
        },
        "id": "z4eJAfJQtbjC",
        "outputId": "6f8cebad-d478-4372-bfc7-05a7d97a9533"
      },
      "execution_count": 56,
      "outputs": [
        {
          "output_type": "stream",
          "name": "stdout",
          "text": [
            "accuracy: 0.7736\n",
            "precision: 0.6987\n",
            "recall: 0.7736\n",
            "F1 score: 0.7079\n"
          ]
        }
      ]
    },
    {
      "cell_type": "code",
      "source": [
        "#plot train metrics\n",
        "list_train = {'accuracy':accuracy,'precision':precision,'recall':recall,'F1 score':f1score}\n",
        "x= list(list_train.keys())\n",
        "y= list(list_train.values())\n",
        "plt.bar(x,y)"
      ],
      "metadata": {
        "colab": {
          "base_uri": "https://localhost:8080/",
          "height": 283
        },
        "id": "xkMzOx_ePnzf",
        "outputId": "57c249f0-3879-48ea-c5b5-87abeb75aaeb"
      },
      "execution_count": 57,
      "outputs": [
        {
          "output_type": "execute_result",
          "data": {
            "text/plain": [
              "<BarContainer object of 4 artists>"
            ]
          },
          "metadata": {},
          "execution_count": 57
        },
        {
          "output_type": "display_data",
          "data": {
            "text/plain": [
              "<Figure size 432x288 with 1 Axes>"
            ],
            "image/png": "[encoded data removed]"
          },
          "metadata": {
            "needs_background": "light"
          }
        }
      ]
    },
    {
      "cell_type": "code",
      "source": [
        "test_evaluate =  pipeline_model.transform(testData)"
      ],
      "metadata": {
        "id": "JviglxDk7Yh1"
      },
      "execution_count": 58,
      "outputs": []
    },
    {
      "cell_type": "code",
      "source": [
        "#measure the test metrics\n",
        "test_accuracy = MulticlassClassificationEvaluator(labelCol=\"review_rating\", predictionCol=\"prediction\", metricName=\"accuracy\")\n",
        "test_precision = MulticlassClassificationEvaluator(labelCol=\"review_rating\", predictionCol=\"prediction\", metricName=\"weightedPrecision\")\n",
        "test_recall = MulticlassClassificationEvaluator(labelCol=\"review_rating\", predictionCol=\"prediction\", metricName=\"weightedRecall\")\n",
        "test_f1 = MulticlassClassificationEvaluator(labelCol=\"review_rating\", predictionCol=\"prediction\", metricName=\"f1\")\n",
        "\n",
        "\n",
        "accuracy = test_accuracy.evaluate(test_evaluate)\n",
        "precision = test_precision.evaluate(test_evaluate)\n",
        "recall = test_recall.evaluate(test_evaluate)\n",
        "f1score = test_f1.evaluate(test_evaluate)\n",
        "\n",
        "print('accuracy: %0.4f' % accuracy)\n",
        "print('precision: %0.4f' % precision)\n",
        "print('recall: %0.4f' % recall)\n",
        "print('F1 score: %0.4f' % f1score)"
      ],
      "metadata": {
        "colab": {
          "base_uri": "https://localhost:8080/"
        },
        "id": "KzEOY9aowpAZ",
        "outputId": "4d4d15a5-79be-4f0b-a280-ac72a158f09d"
      },
      "execution_count": 59,
      "outputs": [
        {
          "output_type": "stream",
          "name": "stdout",
          "text": [
            "accuracy: 0.7547\n",
            "precision: 0.6498\n",
            "recall: 0.7547\n",
            "F1 score: 0.6808\n"
          ]
        }
      ]
    },
    {
      "cell_type": "code",
      "source": [
        "#plot test metrics\n",
        "list_train = {'accuracy':accuracy,'precision':precision,'recall':recall,'F1 score':f1score}\n",
        "x= list(list_train.keys())\n",
        "y= list(list_train.values())\n",
        "plt.bar(x,y)"
      ],
      "metadata": {
        "colab": {
          "base_uri": "https://localhost:8080/",
          "height": 282
        },
        "id": "_CywmCrpevrf",
        "outputId": "e8ab7814-fe5b-4f61-f15f-b1cf0dfd61c1"
      },
      "execution_count": 60,
      "outputs": [
        {
          "output_type": "execute_result",
          "data": {
            "text/plain": [
              "<BarContainer object of 4 artists>"
            ]
          },
          "metadata": {},
          "execution_count": 60
        },
        {
          "output_type": "display_data",
          "data": {
            "text/plain": [
              "<Figure size 432x288 with 1 Axes>"
            ],
            "image/png": "[encoded data removed]"
          },
          "metadata": {
            "needs_background": "light"
          }
        }
      ]
    }
  ]
}